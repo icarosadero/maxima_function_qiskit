{
 "cells": [
  {
   "cell_type": "code",
   "execution_count": 29,
   "metadata": {},
   "outputs": [
    {
     "name": "stderr",
     "output_type": "stream",
     "text": [
      "ibmqfactory.load_account:WARNING:2020-05-17 16:27:42,149: Credentials are already in use. The existing account in the session will be replaced.\n"
     ]
    }
   ],
   "source": [
    "%matplotlib inline\n",
    "from qiskit import QuantumCircuit, execute, Aer, IBMQ, QuantumRegister\n",
    "from qiskit.compiler import transpile, assemble\n",
    "from qiskit.tools.jupyter import *\n",
    "from qiskit.visualization import *\n",
    "provider = IBMQ.load_account()"
   ]
  },
  {
   "cell_type": "markdown",
   "metadata": {},
   "source": [
    "Finding Maxima of an Oracle function using a Quantum Circuit\n",
    "============================================================"
   ]
  },
  {
   "cell_type": "markdown",
   "metadata": {},
   "source": [
    "Given a binary function $f:[0,1]^n\\to[0,1]$, we wish to find a point $x_m\\in[0,1]^n$ such that $f(x_m) = 1$. This algorithm does not focus on efficency and is meant to be taken as an  introductory example of how a quantum circuit works.\n",
    "\n",
    "The algorithm finds the maxima of a given oracle function by evaluating the entire graph of the function through the use of hadamard gates and reducing the probability of the wrong answers. In order to implement the oracle into the circuit we use the following operator $U$:\n",
    "\n",
    "$$U\\left|y\\right\\rangle\\left|x\\right\\rangle = \\left|1\\oplus f(x)\\right\\rangle\\left|x\\right\\rangle$$.\n",
    "\n",
    "The whole state uses $n+2$ bits, composed by the $n$ bits of the domain, $y$ for the range and a control bit $c$. Generically, I'll denote a state using the following notation:\n",
    "\n",
    "$$\\left|cyx_0...x_{n-1}\\right\\rangle = \\left|c\\right\\rangle\\left|y\\right\\rangle\\left|x\\right\\rangle$$.\n",
    "\n",
    "All bits will start off at zero.\n",
    "\n",
    "Initially, the domain qubits $\\left|x_n\\right\\rangle$ go through a hadamard gate so that all possible states are available.\n",
    "\n",
    "$$H\\otimes...\\otimes H\\left|0\\right\\rangle\\left|0\\right\\rangle\\left|0\\right\\rangle = \\frac{1}{2^{\\frac{n}{2}}}\\sum_{k=0}^{2^n-1}\\left|0\\right\\rangle\\left|0\\right\\rangle\\left|k\\right\\rangle$$.\n",
    "\n",
    "When the state goes through the gate $U$, we get the graph of $f$:\n",
    "\n",
    "$$U\\frac{1}{2^{\\frac{n}{2}}}\\sum_{k=0}^{2^n-1}\\left|0\\right\\rangle\\left|0\\right\\rangle\\left|k\\right\\rangle = \\frac{1}{2^{\\frac{n}{2}}}\\sum_{k=0}^{2^n-1}\\left|0\\right\\rangle\\left|f(k)\\right\\rangle\\left|k\\right\\rangle$$.\n",
    "\n",
    "Qubits which correspond to the maxima of $f$ are somewhere within this state. We can highlight their probabilities by 'diluting' the incorrect states with a Hadamard gate: Any qubits whose $y$ isn't 1 will be split into two so that their individual probabilities are reduced. This will be done with an X gate on $\\left|y\\right\\rangle$ controlled Hadamard gate taking $\\left|y\\right\\rangle$ as control and $\\left|c\\right\\rangle$ as target and then another X gate on $\\left|y\\right\\rangle$ to keep its value unchanged. The job of the $\\left|c\\right\\rangle$ bit is to allow for this splitting to occur without mixing the states so that their probabilites aren't nulified, which could increase the probabilities of states we do not wish to increase. I will call this combined operator $CHX$.\n",
    "\n",
    "$$CHX\\frac{1}{2^{\\frac{n}{2}}}\\sum_{k=0}^{2^n-1}\\left|0\\right\\rangle\\left|f(k)\\right\\rangle\\left|k\\right\\rangle = \\frac{1}{2^{\\frac{n}{2}}}\\sum_{k\\in\\{k|f(k)=1\\}}\\left|0\\right\\rangle\\left|1\\right\\rangle\\left|k\\right\\rangle + \\frac{1}{2^{\\frac{n}{2}}}\\frac{1}{\\sqrt{2}}\\sum_{k\\in\\{k|f(k)=0\\}}\\left(\\left|1\\right\\rangle\\left|0\\right\\rangle\\left|k\\right\\rangle+\\left|0\\right\\rangle\\left|0\\right\\rangle\\left|k\\right\\rangle\\right)$$.\n",
    "\n",
    "Just with this simple step, the probability of a right answer is $\\frac{1}{2^n}$ and the probability of a wrong answers is $\\frac{1}{2^n}\\frac{1}{\\sqrt{2}}$. By running this circuit several times (in this case way more than a classical computer would need to) we get one or several qubits corresponding to the maximum of $f$."
   ]
  },
  {
   "cell_type": "markdown",
   "metadata": {},
   "source": [
    "This circuit reproduces only the case for $n=2$. We apply the Hadamard gates and the operator $U$. You can switch which function will be used by changing the parameter \"mapping\" into either \"a\", \"b\" or \"constant\"."
   ]
  },
  {
   "cell_type": "code",
   "execution_count": 30,
   "metadata": {},
   "outputs": [],
   "source": [
    "circ = QuantumCircuit(4,4)\n",
    "#Preparation\n",
    "circ.h(0)\n",
    "circ.h(1)\n",
    "#Oracle function\n",
    "def oracle(circuit, mapping):\n",
    "    if mapping==\"a\":\n",
    "        \"\"\"\n",
    "        100x\n",
    "        010\n",
    "        101x\n",
    "        011\n",
    "        \"\"\"\n",
    "        circuit.cx(1,2)\n",
    "        circuit.x(2)\n",
    "    elif mapping==\"b\":\n",
    "        \"\"\"\n",
    "        100x\n",
    "        001\n",
    "        110x\n",
    "        011\n",
    "        \"\"\"\n",
    "        circuit.cx(0,2)\n",
    "        circuit.x(2)\n",
    "    elif mapping==\"constant\":\n",
    "        circuit.x(2)\n",
    "oracle(circ,\"b\")"
   ]
  },
  {
   "cell_type": "markdown",
   "metadata": {},
   "source": [
    "The following operator is $XCH$, which will reduce the probability of the wrong answers. The X gate is there to switch the control qubit $\\left|c\\right\\rangle$ to 1."
   ]
  },
  {
   "cell_type": "code",
   "execution_count": 31,
   "metadata": {},
   "outputs": [
    {
     "data": {
      "text/plain": [
       "<qiskit.circuit.instructionset.InstructionSet at 0x7fd626772350>"
      ]
     },
     "execution_count": 31,
     "metadata": {},
     "output_type": "execute_result"
    }
   ],
   "source": [
    "circ.barrier(range(4))\n",
    "circ.x(2)\n",
    "circ.ch(2,3)\n",
    "circ.x(2)"
   ]
  },
  {
   "cell_type": "markdown",
   "metadata": {},
   "source": [
    "After the applied gates, we measure the result."
   ]
  },
  {
   "cell_type": "code",
   "execution_count": 32,
   "metadata": {},
   "outputs": [
    {
     "data": {
      "text/plain": [
       "<qiskit.circuit.instructionset.InstructionSet at 0x7fd6267724d0>"
      ]
     },
     "execution_count": 32,
     "metadata": {},
     "output_type": "execute_result"
    }
   ],
   "source": [
    "circ.barrier(range(4))\n",
    "circ.measure(range(4),range(4))"
   ]
  },
  {
   "cell_type": "markdown",
   "metadata": {},
   "source": [
    "This is how the circuit looks like for $n=2$. The operators between the barriers represent the oracle."
   ]
  },
  {
   "cell_type": "code",
   "execution_count": 33,
   "metadata": {},
   "outputs": [
    {
     "data": {
      "image/png": "[encoded data removed]",
      "text/plain": [
       "<Figure size 900.592x325.08 with 1 Axes>"
      ]
     },
     "execution_count": 33,
     "metadata": {},
     "output_type": "execute_result"
    }
   ],
   "source": [
    "circ.draw(\"mpl\")"
   ]
  },
  {
   "cell_type": "markdown",
   "metadata": {},
   "source": [
    "Here we will use the classic simulator of Qiskit."
   ]
  },
  {
   "cell_type": "code",
   "execution_count": 34,
   "metadata": {},
   "outputs": [],
   "source": [
    "nruns = 2048\n",
    "backend_sim = Aer.get_backend('qasm_simulator')\n",
    "job_sim = execute(circ, backend_sim, shots=nruns)\n",
    "result_sim = job_sim.result()"
   ]
  },
  {
   "cell_type": "code",
   "execution_count": 35,
   "metadata": {},
   "outputs": [],
   "source": [
    "counts = result_sim.get_counts(circ)"
   ]
  },
  {
   "cell_type": "code",
   "execution_count": 36,
   "metadata": {},
   "outputs": [
    {
     "data": {
      "image/png": "[encoded data removed]",
      "text/plain": [
       "<Figure size 504x360 with 1 Axes>"
      ]
     },
     "execution_count": 36,
     "metadata": {},
     "output_type": "execute_result"
    }
   ],
   "source": [
    "plot_histogram(counts)"
   ]
  },
  {
   "cell_type": "markdown",
   "metadata": {},
   "source": [
    "Here's a simple filter to get the right answers."
   ]
  },
  {
   "cell_type": "code",
   "execution_count": 37,
   "metadata": {},
   "outputs": [
    {
     "data": {
      "text/plain": [
       "{'0110': 523, '0100': 530}"
      ]
     },
     "execution_count": 37,
     "metadata": {},
     "output_type": "execute_result"
    }
   ],
   "source": [
    "dict(filter(lambda x: x[1]/nruns >= 0.2,counts.items()))"
   ]
  },
  {
   "cell_type": "code",
   "execution_count": null,
   "metadata": {},
   "outputs": [],
   "source": []
  }
 ],
 "metadata": {
  "kernelspec": {
   "display_name": "Python 3",
   "language": "python",
   "name": "python3"
  },
  "language_info": {
   "codemirror_mode": {
    "name": "ipython",
    "version": 3
   },
   "file_extension": ".py",
   "mimetype": "text/x-python",
   "name": "python",
   "nbconvert_exporter": "python",
   "pygments_lexer": "ipython3",
   "version": "3.7.3"
  }
 },
 "nbformat": 4,
 "nbformat_minor": 4
}
